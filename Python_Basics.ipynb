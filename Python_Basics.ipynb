{
  "nbformat": 4,
  "nbformat_minor": 0,
  "metadata": {
    "colab": {
      "provenance": []
    },
    "kernelspec": {
      "name": "python3",
      "display_name": "Python 3"
    },
    "language_info": {
      "name": "python"
    }
  },
  "cells": [
    {
      "cell_type": "code",
      "execution_count": null,
      "metadata": {
        "id": "oBh0bf7svoHl"
      },
      "outputs": [],
      "source": []
    },
    {
      "cell_type": "markdown",
      "source": [
        "# Python Basics"
      ],
      "metadata": {
        "id": "LtO-1zXZyE8G"
      }
    },
    {
      "cell_type": "markdown",
      "source": [
        "# Theory\n"
      ],
      "metadata": {
        "id": "L3eIhGTlyhty"
      }
    },
    {
      "cell_type": "markdown",
      "source": [
        "1.  What is Python, and why is it popular?\n",
        "    - Python is a programming language , it is work like a language medium between human and computer it's like human give instructions to do somthing .\n",
        "    - Python is easy to learn , versatile , it has lots of libraries , huge databases , big community that's why python is popular.\n",
        "\n",
        "2.   What is an interpreter in Python ?\n",
        "    - Interpreter is like a translator , it is a program that reads and executes Python code line by line.\n",
        "\n",
        "3.  What are pre-defined keywords in Python ?\n",
        "   - Pre-defined keywords are pre built or reserved words that have special meanings , it is used to defined syntax of codeing but not used as variable names and fuctions name.\n",
        "\n",
        "4.  Can keywords be used as variable names ?\n",
        "    - NO.\n",
        "\n",
        "5.  What is mutability in Python ?\n",
        "   - Ability to change or edit data types in Python is called mutability.\n",
        "6.   Why are lists mutable, but tuples are immutable ?\n",
        "    - Beacuse lists can be changed easily but tuples can't be changed.\n",
        "7.  What is the difference between “==” and “is” operators in Python ?\n",
        "    - \"==\" is a equality operator and it comes under 'Comparation operator' but \"is\" comes under 'Identity operator'.\n",
        "8.  What are logical operators in Python ?\n",
        "    - Logical operators are used for continonal statement . main logical operators are 'and , or , not '.\n",
        "9.  What is type casting in Python ?\n",
        "    - The process of converting a one data type to another data type of a value or object.\n",
        "10. What is the difference between implicit and explicit type casting ?\n",
        "    - The Python interpreter automatically converts data types without extra programmer interventions , that is implicit type casting but in explicit type casting programmer have to converts date type manually using pre-bulit fuctions.\n",
        "11. What is the purpose of conditional statements in Python ?\n",
        "    - To tell the computer \"chek something , then act based on the result \" . it is use to make decisions and do different things based on different situations.\n",
        "12.  How does the elif statement work ?\n",
        "  - 'elif' means 'else if' and it is use for multiple conditions . Python cheks the first 'if' and cheks first 'elif' then next 'elif' till gets first match.\n",
        "13.  What is the difference between for and while loops ?\n",
        "   - 'for' loops are used when a programmer know how many times to repeat but 'while' loops are used when a programmer repeat untill a condition is false.\n",
        "14. Describe a scenario where a while loop is more suitable than a for loop ?\n",
        "   - A program keeps asking the user to enter his father's number , but the user forgot the last 3 digits , so he doesn't know how many tries it will take . The number of tries is unkown , so in this scenario while loop is more suitable than a for loop.\n",
        "   \n",
        "    "
      ],
      "metadata": {
        "id": "fJiDvbM7yv0d"
      }
    },
    {
      "cell_type": "markdown",
      "source": [
        "# Practical\n"
      ],
      "metadata": {
        "id": "X8Hp-nNT3wDf"
      }
    },
    {
      "cell_type": "markdown",
      "source": [
        "1.  Write a Python program to print \"Hello, World!\""
      ],
      "metadata": {
        "id": "JWRcFl_M4YgJ"
      }
    },
    {
      "cell_type": "code",
      "source": [
        "print(\"Hello ,World !\")"
      ],
      "metadata": {
        "colab": {
          "base_uri": "https://localhost:8080/"
        },
        "id": "SFEqH5yA4wFs",
        "outputId": "d765614d-f966-4181-fea8-721b6acc46ea",
        "collapsed": true
      },
      "execution_count": null,
      "outputs": [
        {
          "output_type": "stream",
          "name": "stdout",
          "text": [
            "Hello ,World !\n"
          ]
        }
      ]
    },
    {
      "cell_type": "markdown",
      "source": [
        "2.  Write a Python program that displays your name and age."
      ],
      "metadata": {
        "id": "VG-NXj3U57hB"
      }
    },
    {
      "cell_type": "code",
      "source": [
        "\n",
        "   print(\"my name is rahul\")\n",
        "   print(\"my age is 24 years\")"
      ],
      "metadata": {
        "colab": {
          "base_uri": "https://localhost:8080/"
        },
        "id": "IvoiUoD15IOK",
        "outputId": "54f1f115-10e8-4c0e-9582-824fbb722ecc",
        "collapsed": true
      },
      "execution_count": null,
      "outputs": [
        {
          "output_type": "stream",
          "name": "stdout",
          "text": [
            "my name is rahul\n",
            "my age is 24 years\n"
          ]
        }
      ]
    },
    {
      "cell_type": "code",
      "source": [
        "# 3.  Write code to print all the pre-defined keywords in Python using the keyword library.\n",
        "\n",
        "help(\"keywords\")\n",
        "\n"
      ],
      "metadata": {
        "colab": {
          "base_uri": "https://localhost:8080/"
        },
        "collapsed": true,
        "id": "Btir9rdS6fnW",
        "outputId": "e990f199-1ee5-4bc2-c8f4-752c7eca5a55"
      },
      "execution_count": null,
      "outputs": [
        {
          "output_type": "stream",
          "name": "stdout",
          "text": [
            "\n",
            "Here is a list of the Python keywords.  Enter any keyword to get more help.\n",
            "\n",
            "False               class               from                or\n",
            "None                continue            global              pass\n",
            "True                def                 if                  raise\n",
            "and                 del                 import              return\n",
            "as                  elif                in                  try\n",
            "assert              else                is                  while\n",
            "async               except              lambda              with\n",
            "await               finally             nonlocal            yield\n",
            "break               for                 not                 \n",
            "\n"
          ]
        }
      ]
    },
    {
      "cell_type": "code",
      "source": [
        "# 4. Write a program that checks if a given word is a Python keyword.\n",
        "\n",
        "import keyword\n",
        "word = input(\"enter a word :\")\n",
        "\n",
        "if  keyword.iskeyword(word):\n",
        "   print(word, \"is a keyword\")\n",
        "else:\n",
        "  print(word, \"is not a keyword\")\n",
        "\n"
      ],
      "metadata": {
        "colab": {
          "base_uri": "https://localhost:8080/"
        },
        "collapsed": true,
        "id": "Z51qvPeW7scx",
        "outputId": "0e9c05bf-61da-4add-a354-ec73358a8118"
      },
      "execution_count": null,
      "outputs": [
        {
          "output_type": "stream",
          "name": "stdout",
          "text": [
            "enter a word :while\n",
            "while is a keyword\n"
          ]
        }
      ]
    },
    {
      "cell_type": "code",
      "source": [
        "# 5.  Create a list and tuple in Python, and demonstrate how attempting to change an element works differently for each.\n",
        "colour_list = [\"red\",\"yellow\",\"orange\",\"black\",\"white\"]\n",
        "print(colour_list)"
      ],
      "metadata": {
        "colab": {
          "base_uri": "https://localhost:8080/"
        },
        "collapsed": true,
        "id": "EiyXMvOLWd1N",
        "outputId": "0db7abb0-81d3-4f41-b9c0-d5681a9e48d1"
      },
      "execution_count": null,
      "outputs": [
        {
          "output_type": "stream",
          "name": "stdout",
          "text": [
            "['red', 'yellow', 'orange', 'black', 'white']\n"
          ]
        }
      ]
    },
    {
      "cell_type": "code",
      "source": [
        "#changing 4rth item\n",
        "colour_list[3] = \"purple\"\n",
        "colour_list"
      ],
      "metadata": {
        "colab": {
          "base_uri": "https://localhost:8080/"
        },
        "collapsed": true,
        "id": "QGgxrPfYXu4i",
        "outputId": "16f5f930-e980-4ba4-c4ce-031b5aad7fe2"
      },
      "execution_count": null,
      "outputs": [
        {
          "output_type": "execute_result",
          "data": {
            "text/plain": [
              "['red', 'yellow', 'orange', 'purple', 'white']"
            ]
          },
          "metadata": {},
          "execution_count": 2
        }
      ]
    },
    {
      "cell_type": "code",
      "source": [
        "#creating tuple\n",
        "colour_tuple = (\"red\", \"yellow\", \"orange\", \"black\", \"white\")\n",
        "print(colour_tuple)"
      ],
      "metadata": {
        "colab": {
          "base_uri": "https://localhost:8080/"
        },
        "collapsed": true,
        "id": "7dykF9WWX6o3",
        "outputId": "24196cd0-aa01-409e-ae43-5dd84d366064"
      },
      "execution_count": null,
      "outputs": [
        {
          "output_type": "stream",
          "name": "stdout",
          "text": [
            "('red', 'yellow', 'orange', 'black', 'white')\n"
          ]
        }
      ]
    },
    {
      "cell_type": "code",
      "source": [
        "#changing 4rth item\n",
        "colour_tuple[3] = \"purple\"\n",
        "colour_tuple"
      ],
      "metadata": {
        "colab": {
          "base_uri": "https://localhost:8080/",
          "height": 176
        },
        "collapsed": true,
        "id": "6WcjAh6pYBqE",
        "outputId": "9c9e5907-c98b-4c4e-da7e-af40b48a6cd7"
      },
      "execution_count": null,
      "outputs": [
        {
          "output_type": "error",
          "ename": "TypeError",
          "evalue": "'tuple' object does not support item assignment",
          "traceback": [
            "\u001b[0;31m---------------------------------------------------------------------------\u001b[0m",
            "\u001b[0;31mTypeError\u001b[0m                                 Traceback (most recent call last)",
            "\u001b[0;32m<ipython-input-4-172894813>\u001b[0m in \u001b[0;36m<cell line: 0>\u001b[0;34m()\u001b[0m\n\u001b[1;32m      1\u001b[0m \u001b[0;31m#changing 4rth item\u001b[0m\u001b[0;34m\u001b[0m\u001b[0;34m\u001b[0m\u001b[0m\n\u001b[0;32m----> 2\u001b[0;31m \u001b[0mcolour_tuple\u001b[0m\u001b[0;34m[\u001b[0m\u001b[0;36m3\u001b[0m\u001b[0;34m]\u001b[0m \u001b[0;34m=\u001b[0m \u001b[0;34m\"purple\"\u001b[0m\u001b[0;34m\u001b[0m\u001b[0;34m\u001b[0m\u001b[0m\n\u001b[0m\u001b[1;32m      3\u001b[0m \u001b[0mcolour_tuple\u001b[0m\u001b[0;34m\u001b[0m\u001b[0;34m\u001b[0m\u001b[0m\n",
            "\u001b[0;31mTypeError\u001b[0m: 'tuple' object does not support item assignment"
          ]
        }
      ]
    },
    {
      "cell_type": "code",
      "source": [
        "# here we can see computer throw an error. beacuse tuple is immutable , it can't be changed but list is mutable it can be changed."
      ],
      "metadata": {
        "id": "7mNfi0yKYrya"
      },
      "execution_count": null,
      "outputs": []
    },
    {
      "cell_type": "code",
      "source": [
        "# 6. Write a function to demonstrate the behavior of mutable and immutable arguments.\n",
        "a = 8"
      ],
      "metadata": {
        "id": "OBq3eMCDY1qr"
      },
      "execution_count": null,
      "outputs": []
    },
    {
      "cell_type": "code",
      "source": [
        "a = 8.5\n",
        "type(a)"
      ],
      "metadata": {
        "collapsed": true,
        "colab": {
          "base_uri": "https://localhost:8080/"
        },
        "id": "Gm5R8zPKZVJk",
        "outputId": "0c5fa41c-e72c-41ec-81f8-b074605d79ab"
      },
      "execution_count": null,
      "outputs": [
        {
          "output_type": "execute_result",
          "data": {
            "text/plain": [
              "float"
            ]
          },
          "metadata": {},
          "execution_count": 11
        }
      ]
    },
    {
      "cell_type": "code",
      "source": [
        "b= int(a)\n",
        "b"
      ],
      "metadata": {
        "colab": {
          "base_uri": "https://localhost:8080/"
        },
        "collapsed": true,
        "id": "zLMMrxRYZf69",
        "outputId": "159e8310-5220-4f64-b6b2-9aac5fbe3ef6"
      },
      "execution_count": null,
      "outputs": [
        {
          "output_type": "execute_result",
          "data": {
            "text/plain": [
              "8"
            ]
          },
          "metadata": {},
          "execution_count": 12
        }
      ]
    },
    {
      "cell_type": "code",
      "source": [
        "c = \"papai\"\n",
        "type(c)"
      ],
      "metadata": {
        "colab": {
          "base_uri": "https://localhost:8080/"
        },
        "collapsed": true,
        "id": "e1FaJbCTZrCP",
        "outputId": "3ed2a682-c3c6-4d58-a1d7-75f0b047e478"
      },
      "execution_count": null,
      "outputs": [
        {
          "output_type": "execute_result",
          "data": {
            "text/plain": [
              "str"
            ]
          },
          "metadata": {},
          "execution_count": 13
        }
      ]
    },
    {
      "cell_type": "code",
      "source": [
        "d = int(c)"
      ],
      "metadata": {
        "colab": {
          "base_uri": "https://localhost:8080/",
          "height": 141
        },
        "collapsed": true,
        "id": "_YMqm8ClZxrD",
        "outputId": "5f30213c-ef37-40b6-e1a7-36f0f7776637"
      },
      "execution_count": 34,
      "outputs": [
        {
          "output_type": "error",
          "ename": "ValueError",
          "evalue": "invalid literal for int() with base 10: 'papai'",
          "traceback": [
            "\u001b[0;31m---------------------------------------------------------------------------\u001b[0m",
            "\u001b[0;31mValueError\u001b[0m                                Traceback (most recent call last)",
            "\u001b[0;32m<ipython-input-34-1984223111>\u001b[0m in \u001b[0;36m<cell line: 0>\u001b[0;34m()\u001b[0m\n\u001b[0;32m----> 1\u001b[0;31m \u001b[0md\u001b[0m \u001b[0;34m=\u001b[0m \u001b[0mint\u001b[0m\u001b[0;34m(\u001b[0m\u001b[0mc\u001b[0m\u001b[0;34m)\u001b[0m\u001b[0;34m\u001b[0m\u001b[0;34m\u001b[0m\u001b[0m\n\u001b[0m",
            "\u001b[0;31mValueError\u001b[0m: invalid literal for int() with base 10: 'papai'"
          ]
        }
      ]
    },
    {
      "cell_type": "code",
      "source": [
        "#a that is float changed to integer beacuse that is mutable but c that is string not changed beacuse that is immutable."
      ],
      "metadata": {
        "id": "27iGLWGnZ4bW"
      },
      "execution_count": null,
      "outputs": []
    },
    {
      "cell_type": "code",
      "source": [
        "# 7. Write a program that performs basic arithmetic operations on two user-input numbers.\n",
        "a = 35\n",
        "b = 45\n",
        "a+b"
      ],
      "metadata": {
        "colab": {
          "base_uri": "https://localhost:8080/"
        },
        "collapsed": true,
        "id": "Os-hSMALZ-ra",
        "outputId": "19b5e171-7358-40b4-89f2-c46dec046155"
      },
      "execution_count": null,
      "outputs": [
        {
          "output_type": "execute_result",
          "data": {
            "text/plain": [
              "80"
            ]
          },
          "metadata": {},
          "execution_count": 15
        }
      ]
    },
    {
      "cell_type": "code",
      "source": [
        "# 8. Write a program to demonstrate the use of logical operators.\n",
        "a = True\n",
        "b = False\n",
        "result  = a and not a or b and b\n",
        "print(\"a and not a or b and b :\", result)"
      ],
      "metadata": {
        "colab": {
          "base_uri": "https://localhost:8080/"
        },
        "collapsed": true,
        "id": "zDISjDTJaJIk",
        "outputId": "e26daf0c-b324-4c89-f3b8-b48978efe0f1"
      },
      "execution_count": null,
      "outputs": [
        {
          "output_type": "stream",
          "name": "stdout",
          "text": [
            "a and not a or b and b : False\n"
          ]
        }
      ]
    },
    {
      "cell_type": "code",
      "source": [
        "# 9. Write a Python program to convert user input from string to integer , float and boolean types.\n",
        "num = int(input(\"enter a number 1 :\"))\n",
        "num_2 = float(input(\"enter a number 2 :\"))\n",
        "num_3 = bool(input(\"enter a number 3 :\"))"
      ],
      "metadata": {
        "colab": {
          "base_uri": "https://localhost:8080/"
        },
        "collapsed": true,
        "id": "zN0FZqdHaTtB",
        "outputId": "6a96b462-e4bc-423d-bca5-0449002d4fba"
      },
      "execution_count": null,
      "outputs": [
        {
          "name": "stdout",
          "output_type": "stream",
          "text": [
            "enter a number 1 :6\n",
            "enter a number 2 :8\n",
            "enter a number 3 :8\n"
          ]
        }
      ]
    },
    {
      "cell_type": "code",
      "source": [
        "type (num)"
      ],
      "metadata": {
        "colab": {
          "base_uri": "https://localhost:8080/"
        },
        "collapsed": true,
        "id": "yY3wz_SiazK6",
        "outputId": "a8cfd9c4-327a-4888-8820-6b7e919c7ba5"
      },
      "execution_count": null,
      "outputs": [
        {
          "output_type": "execute_result",
          "data": {
            "text/plain": [
              "int"
            ]
          },
          "metadata": {},
          "execution_count": 21
        }
      ]
    },
    {
      "cell_type": "code",
      "source": [
        "type (num_2)"
      ],
      "metadata": {
        "id": "neiUHhdja5pR",
        "colab": {
          "base_uri": "https://localhost:8080/"
        },
        "collapsed": true,
        "outputId": "68eceb7e-33b0-403e-887a-e5b31a444b63"
      },
      "execution_count": 22,
      "outputs": [
        {
          "output_type": "execute_result",
          "data": {
            "text/plain": [
              "float"
            ]
          },
          "metadata": {},
          "execution_count": 22
        }
      ]
    },
    {
      "cell_type": "code",
      "source": [
        "type (num_3)"
      ],
      "metadata": {
        "colab": {
          "base_uri": "https://localhost:8080/"
        },
        "collapsed": true,
        "id": "54RlZk6PcERt",
        "outputId": "f7ffd947-c9b2-4a20-c268-1d93ae31e3b5"
      },
      "execution_count": 23,
      "outputs": [
        {
          "output_type": "execute_result",
          "data": {
            "text/plain": [
              "bool"
            ]
          },
          "metadata": {},
          "execution_count": 23
        }
      ]
    },
    {
      "cell_type": "code",
      "source": [
        "# 10. Write a code to demonstrate type casting with list elements.\n",
        "\n",
        "list_count = [ 25,6.5,6+5j,\"boy\" ]\n",
        "\n",
        "print(list_count)"
      ],
      "metadata": {
        "colab": {
          "base_uri": "https://localhost:8080/"
        },
        "collapsed": true,
        "id": "1ZTZp_iZcHos",
        "outputId": "e02ae28c-ca1e-48ff-90f7-62b0560f39db"
      },
      "execution_count": 24,
      "outputs": [
        {
          "output_type": "stream",
          "name": "stdout",
          "text": [
            "[25, 6.5, (6+5j), 'boy']\n"
          ]
        }
      ]
    },
    {
      "cell_type": "code",
      "source": [
        "type (list_count[1])"
      ],
      "metadata": {
        "colab": {
          "base_uri": "https://localhost:8080/"
        },
        "collapsed": true,
        "id": "3Cj2ivH3cUsE",
        "outputId": "5a20bc5d-715b-42cd-9df2-609f2e6e67b3"
      },
      "execution_count": 25,
      "outputs": [
        {
          "output_type": "execute_result",
          "data": {
            "text/plain": [
              "float"
            ]
          },
          "metadata": {},
          "execution_count": 25
        }
      ]
    },
    {
      "cell_type": "code",
      "source": [
        "list_count[1] = int(list_count[1])\n",
        "list_count[1]"
      ],
      "metadata": {
        "colab": {
          "base_uri": "https://localhost:8080/"
        },
        "collapsed": true,
        "id": "w6RZgHfTcZ7A",
        "outputId": "dc5c718f-4082-4553-9366-ddecff9b9bb1"
      },
      "execution_count": 26,
      "outputs": [
        {
          "output_type": "execute_result",
          "data": {
            "text/plain": [
              "6"
            ]
          },
          "metadata": {},
          "execution_count": 26
        }
      ]
    },
    {
      "cell_type": "code",
      "source": [
        "type (list_count[1])"
      ],
      "metadata": {
        "colab": {
          "base_uri": "https://localhost:8080/"
        },
        "collapsed": true,
        "id": "gIfgWG1LcnXj",
        "outputId": "1282a473-41d6-4fc9-b1c5-cfe50283d054"
      },
      "execution_count": 27,
      "outputs": [
        {
          "output_type": "execute_result",
          "data": {
            "text/plain": [
              "int"
            ]
          },
          "metadata": {},
          "execution_count": 27
        }
      ]
    },
    {
      "cell_type": "code",
      "source": [
        "list_count"
      ],
      "metadata": {
        "colab": {
          "base_uri": "https://localhost:8080/"
        },
        "collapsed": true,
        "id": "lI2s6sHUctrh",
        "outputId": "80fb5c9f-12b4-4346-ca4a-00a08a404399"
      },
      "execution_count": 28,
      "outputs": [
        {
          "output_type": "execute_result",
          "data": {
            "text/plain": [
              "[25, 6, (6+5j), 'boy']"
            ]
          },
          "metadata": {},
          "execution_count": 28
        }
      ]
    },
    {
      "cell_type": "code",
      "source": [
        "# 11. Write a program that checks if a number is positive , negative or zero.\n",
        "number = int(input(\"enter a number :\"))\n",
        "\n",
        "if (number > 0 ) :\n",
        "    print (\" The number is positive \")\n",
        "elif (number < 0 ) :\n",
        "    print (\"The number is negative \")\n",
        "else:\n",
        "    print (\" The number is zero\")"
      ],
      "metadata": {
        "colab": {
          "base_uri": "https://localhost:8080/"
        },
        "collapsed": true,
        "id": "tp4LZ5egcxBN",
        "outputId": "d0f99d13-66a3-42a7-eecc-bb2c3a0a3d0f"
      },
      "execution_count": 29,
      "outputs": [
        {
          "output_type": "stream",
          "name": "stdout",
          "text": [
            "enter a number :0\n",
            " The number is zero\n"
          ]
        }
      ]
    },
    {
      "cell_type": "code",
      "source": [
        "# 12. Write a for loop to print numbers from 1 to 10.\n",
        "for i in range(1, 11):\n",
        "   print(i)"
      ],
      "metadata": {
        "colab": {
          "base_uri": "https://localhost:8080/"
        },
        "collapsed": true,
        "id": "8F0lv0lAc5Aa",
        "outputId": "39efc755-5ff3-490b-95fe-86b59b81791f"
      },
      "execution_count": 30,
      "outputs": [
        {
          "output_type": "stream",
          "name": "stdout",
          "text": [
            "1\n",
            "2\n",
            "3\n",
            "4\n",
            "5\n",
            "6\n",
            "7\n",
            "8\n",
            "9\n",
            "10\n"
          ]
        }
      ]
    },
    {
      "cell_type": "code",
      "source": [
        "# 13. Write a Python program to find sum of all even numbers between 1 and 50 .\n",
        "sum_even = 0\n",
        "for i in range(1, 51):\n",
        "    if i % 2 == 0 :\n",
        "        sum_even += i\n",
        "\n",
        "print(\"sum of even numbers from 1 to 50 is :\", sum_even)"
      ],
      "metadata": {
        "colab": {
          "base_uri": "https://localhost:8080/"
        },
        "collapsed": true,
        "id": "ATKKr8DGdChb",
        "outputId": "6c7da9f5-7ee8-4e2d-8272-ebe148c96cab"
      },
      "execution_count": 31,
      "outputs": [
        {
          "output_type": "stream",
          "name": "stdout",
          "text": [
            "sum of even numbers from 1 to 50 is : 650\n"
          ]
        }
      ]
    },
    {
      "cell_type": "code",
      "source": [
        "# 14. Write a program to reverse a string using a while loop.\n",
        "text = input(\"Enter a string:\")\n",
        "reversed_text = \"\"\n",
        "i = len(text) - 1\n",
        "while i >= 0 :\n",
        "    reversed_text += text[i]\n",
        "    i -= 1\n",
        "print(\"Reversed string:\", reversed_text)"
      ],
      "metadata": {
        "colab": {
          "base_uri": "https://localhost:8080/"
        },
        "collapsed": true,
        "id": "h8Z1fKardJgk",
        "outputId": "dd746bd2-25bf-4327-8b36-f30ff3105419"
      },
      "execution_count": 32,
      "outputs": [
        {
          "output_type": "stream",
          "name": "stdout",
          "text": [
            "Enter a string:sum\n",
            "Reversed string: mus\n"
          ]
        }
      ]
    },
    {
      "cell_type": "code",
      "source": [
        "# 15. Write a Python program to calculate the factorial of a number provided by the user using a while loop.\n",
        "number = int(input(\"Enter a number : \"))\n",
        "factorial = 1\n",
        "i = 1\n",
        "while i <= number:\n",
        "    factorial *= i\n",
        "    i += 1\n",
        "print(\"Factorial of \" , number, \"is\", factorial)"
      ],
      "metadata": {
        "colab": {
          "base_uri": "https://localhost:8080/"
        },
        "collapsed": true,
        "id": "JG21AzY8dQGc",
        "outputId": "63b12b12-0ffe-4b25-b996-a78281a8cfc6"
      },
      "execution_count": 33,
      "outputs": [
        {
          "output_type": "stream",
          "name": "stdout",
          "text": [
            "Enter a number : 5\n",
            "Factorial of  5 is 120\n"
          ]
        }
      ]
    }
  ]
}